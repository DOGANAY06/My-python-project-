{
  "nbformat": 4,
  "nbformat_minor": 0,
  "metadata": {
    "colab": {
      "name": "pythondscgaziegitimi.ipynb",
      "provenance": [],
      "collapsed_sections": [],
      "authorship_tag": "ABX9TyNqArBX6waIvDwhK3YllHeu",
      "include_colab_link": true
    },
    "kernelspec": {
      "name": "python3",
      "display_name": "Python 3"
    }
  },
  "cells": [
    {
      "cell_type": "markdown",
      "metadata": {
        "id": "view-in-github",
        "colab_type": "text"
      },
      "source": [
        "<a href=\"https://colab.research.google.com/github/DOGANAY06/My-python-project-/blob/master/pythondscgaziegitimi.ipynb\" target=\"_parent\"><img src=\"https://colab.research.google.com/assets/colab-badge.svg\" alt=\"Open In Colab\"/></a>"
      ]
    },
    {
      "cell_type": "code",
      "metadata": {
        "colab": {
          "base_uri": "https://localhost:8080/"
        },
        "id": "ZSg1OqqQCNCO",
        "outputId": "af132c2c-3612-469f-a162-f9a8a2b618b8"
      },
      "source": [
        "print(\"Selamlar düna\")"
      ],
      "execution_count": 1,
      "outputs": [
        {
          "output_type": "stream",
          "text": [
            "Selamlar düna\n"
          ],
          "name": "stdout"
        }
      ]
    },
    {
      "cell_type": "code",
      "metadata": {
        "colab": {
          "base_uri": "https://localhost:8080/"
        },
        "id": "Wqq31hvbCcwu",
        "outputId": "c0a37633-4e78-4be4-d29b-8ae3c4047373"
      },
      "source": [
        "!python --version"
      ],
      "execution_count": 2,
      "outputs": [
        {
          "output_type": "stream",
          "text": [
            "Python 3.6.9\n"
          ],
          "name": "stdout"
        }
      ]
    },
    {
      "cell_type": "code",
      "metadata": {
        "id": "pK3N13HECya5"
      },
      "source": [
        "#String\r\n",
        "hello = \"World\""
      ],
      "execution_count": 3,
      "outputs": []
    },
    {
      "cell_type": "code",
      "metadata": {
        "colab": {
          "base_uri": "https://localhost:8080/"
        },
        "id": "uQ1rzIigFrF2",
        "outputId": "c3a4e0dd-c1d7-4210-ffc4-701cadd2f404"
      },
      "source": [
        "print(hello) #print variable\r\n",
        "print(\"World\") #print value"
      ],
      "execution_count": 5,
      "outputs": [
        {
          "output_type": "stream",
          "text": [
            "World\n",
            "World\n"
          ],
          "name": "stdout"
        }
      ]
    },
    {
      "cell_type": "code",
      "metadata": {
        "colab": {
          "base_uri": "https://localhost:8080/"
        },
        "id": "rU9wpCR2Fs-s",
        "outputId": "6ed60995-c935-459d-b9fc-f6c8df41953b"
      },
      "source": [
        "#type() \r\n",
        "type(hello)"
      ],
      "execution_count": 6,
      "outputs": [
        {
          "output_type": "execute_result",
          "data": {
            "text/plain": [
              "str"
            ]
          },
          "metadata": {
            "tags": []
          },
          "execution_count": 6
        }
      ]
    },
    {
      "cell_type": "code",
      "metadata": {
        "colab": {
          "base_uri": "https://localhost:8080/"
        },
        "id": "m1DKCYT3Fx5m",
        "outputId": "e0269d42-6db5-4f83-ff41-71f980d59ad4"
      },
      "source": [
        "print(type(hello)) #print data type"
      ],
      "execution_count": 8,
      "outputs": [
        {
          "output_type": "stream",
          "text": [
            "<class 'str'>\n"
          ],
          "name": "stdout"
        }
      ]
    },
    {
      "cell_type": "code",
      "metadata": {
        "colab": {
          "base_uri": "https://localhost:8080/"
        },
        "id": "OmunlNp2GIRc",
        "outputId": "d9096f5e-e165-4999-cab5-235f822b10aa"
      },
      "source": [
        "#Integer\r\n",
        "int_value = 5\r\n",
        "int_value"
      ],
      "execution_count": 9,
      "outputs": [
        {
          "output_type": "execute_result",
          "data": {
            "text/plain": [
              "5"
            ]
          },
          "metadata": {
            "tags": []
          },
          "execution_count": 9
        }
      ]
    },
    {
      "cell_type": "code",
      "metadata": {
        "colab": {
          "base_uri": "https://localhost:8080/"
        },
        "id": "S_mW7HbeGPt6",
        "outputId": "b003aaa0-94a3-46ff-abd3-a6986728e8d4"
      },
      "source": [
        "print(type(int_value))"
      ],
      "execution_count": 10,
      "outputs": [
        {
          "output_type": "stream",
          "text": [
            "<class 'int'>\n"
          ],
          "name": "stdout"
        }
      ]
    },
    {
      "cell_type": "code",
      "metadata": {
        "colab": {
          "base_uri": "https://localhost:8080/"
        },
        "id": "Dc2ICLAhGXGR",
        "outputId": "85e56d60-aec8-4c8a-beeb-6cd7e69b4202"
      },
      "source": [
        "t = 3.19\r\n",
        "print(type(t))"
      ],
      "execution_count": 11,
      "outputs": [
        {
          "output_type": "stream",
          "text": [
            "<class 'float'>\n"
          ],
          "name": "stdout"
        }
      ]
    },
    {
      "cell_type": "code",
      "metadata": {
        "colab": {
          "base_uri": "https://localhost:8080/"
        },
        "id": "O5xWt_YoGnja",
        "outputId": "9caf81be-da1f-451c-ba88-7aa581b0f86d"
      },
      "source": [
        "#Boolean\r\n",
        "t, f = True, False\r\n",
        "print(type(t))\r\n",
        "print(t)\r\n",
        "print(f)"
      ],
      "execution_count": 12,
      "outputs": [
        {
          "output_type": "stream",
          "text": [
            "<class 'bool'>\n",
            "True\n",
            "False\n"
          ],
          "name": "stdout"
        }
      ]
    },
    {
      "cell_type": "code",
      "metadata": {
        "colab": {
          "base_uri": "https://localhost:8080/"
        },
        "id": "mTAkx5MgG4Wl",
        "outputId": "a11ebc95-b498-43b0-e8ca-f46f2f82e35c"
      },
      "source": [
        "#swapping\r\n",
        "data1 = 7 \r\n",
        "data2 = 12\r\n",
        "data3 = 23\r\n",
        "data4 = 33\r\n",
        "\r\n",
        "data1, data2, data3 , data4 = data2 , data1, data4, data3\r\n",
        "print(data1, data2, data3, data4)"
      ],
      "execution_count": 13,
      "outputs": [
        {
          "output_type": "stream",
          "text": [
            "12 7 33 23\n"
          ],
          "name": "stdout"
        }
      ]
    },
    {
      "cell_type": "code",
      "metadata": {
        "id": "_bJm8V95HNPo"
      },
      "source": [
        "metin = \"\"\"Lorem ipsum dolor sit amet, consectetur adipiscing elit, sed do eiusmod tempor incididunt ut labore et dolore magna aliqua. Ut enim ad minim veniam, quis nostrud exercitation ullamco laboris nisi ut aliquip ex ea commodo consequat. Duis aute irure dolor in reprehenderit in voluptate velit esse cillum dolore eu fugiat nulla pariatur. Excepteur sint occaecat cupidatat non proident, sunt in culpa qui officia deserunt mollit anim id est laborum.\"\r\n",
        "\r\n",
        "Section 1.10.32 of \"de Finibus Bonorum et Malorum\", written by Cicero in 45 BC\r\n",
        "\"Sed ut perspiciatis unde omnis iste natus error sit voluptatem accusantium doloremque laudantium, totam rem aperiam, eaque ipsa quae ab illo inventore veritatis et quasi architecto beatae vitae dicta sunt explicabo. Nemo enim ipsam voluptatem quia voluptas sit aspernatur aut odit aut fugit, sed quia consequuntur magni dolores eos qui ratione voluptatem sequi nesciunt. Neque porro quisquam est, qui dolorem ipsum quia dolor sit amet, consectetur, adipisci velit, sed quia non numquam eius modi tempora incidunt ut labore et dolore magnam aliquam quaerat voluptatem. Ut enim ad minima veniam, quis nostrum exercitationem ullam corporis suscipit laboriosam, nisi ut aliquid ex ea commodi consequatur? Quis autem vel eum iure reprehenderit qui in ea voluptate velit esse quam nihil molestiae consequatur, vel illum qui dolorem eum fugiat quo voluptas nulla pariatur?\"\r\n",
        "\r\n",
        "1914 translation by H. Rackham\r\n",
        "\"But I must explain to you how all this mistaken idea of denouncing pleasure and praising pain was born and I will give you a complete account of the system, and expound the actual teachings of the great explorer of the truth, the master-builder of human happiness. No one rejects, dislikes, or avoids pleasure itself, because it is pleasure, but because those who do not know how to pursue pleasure rationally encounter consequences that are extremely painful. Nor again is there anyone who loves or pursues or desires to obtain pain of itself, because it is pain, but because occasionally circumstances occur in which toil and pain can procure him some great pleasure. To take a trivial example, which of us ever undertakes laborious physical exercise, except to obtain some advantage from it? But who has any right to find fault with a man who chooses to enjoy a pleasure that has no annoying consequences, or one who avoids a pain that produces no resultant pleasure?\"\"\""
      ],
      "execution_count": 15,
      "outputs": []
    },
    {
      "cell_type": "code",
      "metadata": {
        "colab": {
          "base_uri": "https://localhost:8080/"
        },
        "id": "Pnr7dyCrHWl1",
        "outputId": "ab562b5d-5b54-4c8b-8b9c-14187ad2efdd"
      },
      "source": [
        "len(metin)"
      ],
      "execution_count": 16,
      "outputs": [
        {
          "output_type": "execute_result",
          "data": {
            "text/plain": [
              "2398"
            ]
          },
          "metadata": {
            "tags": []
          },
          "execution_count": 16
        }
      ]
    },
    {
      "cell_type": "code",
      "metadata": {
        "colab": {
          "base_uri": "https://localhost:8080/",
          "height": 165
        },
        "id": "wHSI5UPbHoek",
        "outputId": "0256b10d-04f4-4369-bd11-db4740799411"
      },
      "source": [
        "len(5)"
      ],
      "execution_count": 17,
      "outputs": [
        {
          "output_type": "error",
          "ename": "TypeError",
          "evalue": "ignored",
          "traceback": [
            "\u001b[0;31m---------------------------------------------------------------------------\u001b[0m",
            "\u001b[0;31mTypeError\u001b[0m                                 Traceback (most recent call last)",
            "\u001b[0;32m<ipython-input-17-91fed648bb37>\u001b[0m in \u001b[0;36m<module>\u001b[0;34m()\u001b[0m\n\u001b[0;32m----> 1\u001b[0;31m \u001b[0mlen\u001b[0m\u001b[0;34m(\u001b[0m\u001b[0;36m5\u001b[0m\u001b[0;34m)\u001b[0m\u001b[0;34m\u001b[0m\u001b[0;34m\u001b[0m\u001b[0m\n\u001b[0m",
            "\u001b[0;31mTypeError\u001b[0m: object of type 'int' has no len()"
          ]
        }
      ]
    },
    {
      "cell_type": "code",
      "metadata": {
        "id": "-u5_FZPtIYFI"
      },
      "source": [
        "ahmet =\"5\""
      ],
      "execution_count": 18,
      "outputs": []
    },
    {
      "cell_type": "code",
      "metadata": {
        "colab": {
          "base_uri": "https://localhost:8080/"
        },
        "id": "oG-i1k6fIwNj",
        "outputId": "f1e1f632-909f-4874-93ff-abae8732e407"
      },
      "source": [
        "len(ahmet)"
      ],
      "execution_count": 19,
      "outputs": [
        {
          "output_type": "execute_result",
          "data": {
            "text/plain": [
              "1"
            ]
          },
          "metadata": {
            "tags": []
          },
          "execution_count": 19
        }
      ]
    },
    {
      "cell_type": "code",
      "metadata": {
        "colab": {
          "base_uri": "https://localhost:8080/"
        },
        "id": "C7BPGdgiIxeZ",
        "outputId": "7795fadf-baa1-46ca-8eca-efa2a33da338"
      },
      "source": [
        "data12 = 5\r\n",
        "data13 = 90\r\n",
        "print(\"My value:{} and Your value:{}\".format(data12, data13))"
      ],
      "execution_count": 20,
      "outputs": [
        {
          "output_type": "stream",
          "text": [
            "My value:5 and Your value:90\n"
          ],
          "name": "stdout"
        }
      ]
    },
    {
      "cell_type": "code",
      "metadata": {
        "colab": {
          "base_uri": "https://localhost:8080/"
        },
        "id": "yPEwFnlwJCxZ",
        "outputId": "a43785e0-6548-48d0-a2a3-68d03ec19f52"
      },
      "source": [
        "x = 13\r\n",
        "\r\n",
        "print(x+2)\r\n",
        "print(x-2)\r\n",
        "print(x*2)\r\n",
        "print(x**2)\r\n",
        "print(x**4)\r\n",
        "print(x/2)\r\n",
        "print(x//2)  #kalansiz bolme islemi \r\n",
        "print(x%2) "
      ],
      "execution_count": 21,
      "outputs": [
        {
          "output_type": "stream",
          "text": [
            "15\n",
            "11\n",
            "26\n",
            "169\n",
            "28561\n",
            "6.5\n",
            "6\n",
            "1\n"
          ],
          "name": "stdout"
        }
      ]
    },
    {
      "cell_type": "code",
      "metadata": {
        "colab": {
          "base_uri": "https://localhost:8080/"
        },
        "id": "fSYFXZydK6U0",
        "outputId": "31fc3295-44e3-432c-fbf3-4b7fd8b70d1c"
      },
      "source": [
        "ad = \"Dogan\"\r\n",
        "soyad =\"Ay\"\r\n",
        "print(\"Benim adim {} soyadim {}\".format(ad,soyad))"
      ],
      "execution_count": 23,
      "outputs": [
        {
          "output_type": "stream",
          "text": [
            "Benim adim Dogan soyadim Ay\n"
          ],
          "name": "stdout"
        }
      ]
    },
    {
      "cell_type": "code",
      "metadata": {
        "colab": {
          "base_uri": "https://localhost:8080/",
          "height": 35
        },
        "id": "Lb1vCmSTQ-g-",
        "outputId": "437040f9-b146-409a-d500-504651a430de"
      },
      "source": [
        "str(23)"
      ],
      "execution_count": 24,
      "outputs": [
        {
          "output_type": "execute_result",
          "data": {
            "application/vnd.google.colaboratory.intrinsic+json": {
              "type": "string"
            },
            "text/plain": [
              "'23'"
            ]
          },
          "metadata": {
            "tags": []
          },
          "execution_count": 24
        }
      ]
    },
    {
      "cell_type": "code",
      "metadata": {
        "colab": {
          "base_uri": "https://localhost:8080/"
        },
        "id": "535dx3cDRhq4",
        "outputId": "b6ae694e-89ae-437c-a4ce-b0efe712e932"
      },
      "source": [
        "type(23)"
      ],
      "execution_count": 25,
      "outputs": [
        {
          "output_type": "execute_result",
          "data": {
            "text/plain": [
              "int"
            ]
          },
          "metadata": {
            "tags": []
          },
          "execution_count": 25
        }
      ]
    },
    {
      "cell_type": "code",
      "metadata": {
        "colab": {
          "base_uri": "https://localhost:8080/"
        },
        "id": "xGDpvH8oRqh5",
        "outputId": "cfa320ee-7e4e-41c4-d35f-c53de23751bd"
      },
      "source": [
        "int(float(5.2))"
      ],
      "execution_count": 26,
      "outputs": [
        {
          "output_type": "execute_result",
          "data": {
            "text/plain": [
              "5"
            ]
          },
          "metadata": {
            "tags": []
          },
          "execution_count": 26
        }
      ]
    },
    {
      "cell_type": "code",
      "metadata": {
        "colab": {
          "base_uri": "https://localhost:8080/",
          "height": 35
        },
        "id": "RzKAYmI1SEGn",
        "outputId": "de0bbfa1-9b1b-4810-cfc5-53752c616f5b"
      },
      "source": [
        "str(float(5.2))"
      ],
      "execution_count": 27,
      "outputs": [
        {
          "output_type": "execute_result",
          "data": {
            "application/vnd.google.colaboratory.intrinsic+json": {
              "type": "string"
            },
            "text/plain": [
              "'5.2'"
            ]
          },
          "metadata": {
            "tags": []
          },
          "execution_count": 27
        }
      ]
    },
    {
      "cell_type": "code",
      "metadata": {
        "colab": {
          "base_uri": "https://localhost:8080/"
        },
        "id": "4es8emchSWQX",
        "outputId": "3d2f5d54-cf71-4f76-f677-065f791382d4"
      },
      "source": [
        "job = \" Engineering\"\r\n",
        "\r\n",
        "print(job[-2])"
      ],
      "execution_count": 29,
      "outputs": [
        {
          "output_type": "stream",
          "text": [
            "n\n"
          ],
          "name": "stdout"
        }
      ]
    },
    {
      "cell_type": "code",
      "metadata": {
        "colab": {
          "base_uri": "https://localhost:8080/",
          "height": 35
        },
        "id": "Rn5hULmVUQRP",
        "outputId": "4ce42636-ac7f-41d2-f1d6-60ae7d222ebf"
      },
      "source": [
        "hello =\"hello\"\r\n",
        "hello[2:4] #başlangıc ve bitiş noktasını verir kadar"
      ],
      "execution_count": 30,
      "outputs": [
        {
          "output_type": "execute_result",
          "data": {
            "application/vnd.google.colaboratory.intrinsic+json": {
              "type": "string"
            },
            "text/plain": [
              "'ll'"
            ]
          },
          "metadata": {
            "tags": []
          },
          "execution_count": 30
        }
      ]
    },
    {
      "cell_type": "code",
      "metadata": {
        "colab": {
          "base_uri": "https://localhost:8080/",
          "height": 35
        },
        "id": "kkgCqMbDUbW5",
        "outputId": "f93c92f4-b180-4c05-ce51-e8b6e76883d4"
      },
      "source": [
        "hello[::-1]"
      ],
      "execution_count": 41,
      "outputs": [
        {
          "output_type": "execute_result",
          "data": {
            "application/vnd.google.colaboratory.intrinsic+json": {
              "type": "string"
            },
            "text/plain": [
              "'olleh'"
            ]
          },
          "metadata": {
            "tags": []
          },
          "execution_count": 41
        }
      ]
    },
    {
      "cell_type": "code",
      "metadata": {
        "colab": {
          "base_uri": "https://localhost:8080/",
          "height": 35
        },
        "id": "JdfVtU3sUqOp",
        "outputId": "5614b9c4-c92c-41ac-9312-44d8c7cee73c"
      },
      "source": [
        "hello[2:-1]"
      ],
      "execution_count": 47,
      "outputs": [
        {
          "output_type": "execute_result",
          "data": {
            "application/vnd.google.colaboratory.intrinsic+json": {
              "type": "string"
            },
            "text/plain": [
              "'ll'"
            ]
          },
          "metadata": {
            "tags": []
          },
          "execution_count": 47
        }
      ]
    },
    {
      "cell_type": "code",
      "metadata": {
        "colab": {
          "base_uri": "https://localhost:8080/",
          "height": 35
        },
        "id": "n3hERVnDU55_",
        "outputId": "30784e53-6c4e-4f36-8c26-f1126271a013"
      },
      "source": [
        "word = \"ahmet geldi gitti sevdi\"\r\n",
        "word[2:10:2]   # [start:end:step]"
      ],
      "execution_count": 35,
      "outputs": [
        {
          "output_type": "execute_result",
          "data": {
            "application/vnd.google.colaboratory.intrinsic+json": {
              "type": "string"
            },
            "text/plain": [
              "'mtgl'"
            ]
          },
          "metadata": {
            "tags": []
          },
          "execution_count": 35
        }
      ]
    },
    {
      "cell_type": "code",
      "metadata": {
        "colab": {
          "base_uri": "https://localhost:8080/"
        },
        "id": "eAH2IPGIVF9M",
        "outputId": "afa46eea-d5ab-4113-d9ed-ff55629767a8"
      },
      "source": [
        "deger= 'machine learning'\r\n",
        "print(deger.capitalize()) #strgin ilk harfini büyütüyoruz"
      ],
      "execution_count": 48,
      "outputs": [
        {
          "output_type": "stream",
          "text": [
            "Machine learning\n"
          ],
          "name": "stdout"
        }
      ]
    },
    {
      "cell_type": "code",
      "metadata": {
        "colab": {
          "base_uri": "https://localhost:8080/"
        },
        "id": "TMVBvvq-WShQ",
        "outputId": "22ea093c-3f3a-4108-b060-80900ee8d781"
      },
      "source": [
        "print(deger.upper())"
      ],
      "execution_count": 49,
      "outputs": [
        {
          "output_type": "stream",
          "text": [
            "MACHINE LEARNING\n"
          ],
          "name": "stdout"
        }
      ]
    },
    {
      "cell_type": "code",
      "metadata": {
        "colab": {
          "base_uri": "https://localhost:8080/"
        },
        "id": "WiAG3hn3WgNW",
        "outputId": "79c5c249-b8c6-4a74-e796-f98ebf8de030"
      },
      "source": [
        "print(deger.replace('machine','artificial'))"
      ],
      "execution_count": 50,
      "outputs": [
        {
          "output_type": "stream",
          "text": [
            "artificial learning\n"
          ],
          "name": "stdout"
        }
      ]
    },
    {
      "cell_type": "code",
      "metadata": {
        "colab": {
          "base_uri": "https://localhost:8080/"
        },
        "id": "hn3v-MJHWmUD",
        "outputId": "024ffd2e-2db7-481f-89e0-2ccd30f90512"
      },
      "source": [
        "print(deger.lower())"
      ],
      "execution_count": 51,
      "outputs": [
        {
          "output_type": "stream",
          "text": [
            "machine learning\n"
          ],
          "name": "stdout"
        }
      ]
    },
    {
      "cell_type": "code",
      "metadata": {
        "colab": {
          "base_uri": "https://localhost:8080/"
        },
        "id": "2b-3AIgCW0Qm",
        "outputId": "43138177-e8dc-427b-f2b3-b220764c4f5d"
      },
      "source": [
        "word2 = \"          artificial general      intelligence\"\r\n",
        "print(word2.strip()) #başlangıçtaki boşlukları sil "
      ],
      "execution_count": 52,
      "outputs": [
        {
          "output_type": "stream",
          "text": [
            "artificial general      intelligence\n"
          ],
          "name": "stdout"
        }
      ]
    },
    {
      "cell_type": "code",
      "metadata": {
        "colab": {
          "base_uri": "https://localhost:8080/"
        },
        "id": "1jTfNUPFW4rT",
        "outputId": "f884a0ea-b59c-4e96-f4ac-4b297aedf04b"
      },
      "source": [
        "x = int(input(\"Please enter an integer: \"))\r\n",
        "print(x) #sadece integer için olur\r\n"
      ],
      "execution_count": 53,
      "outputs": [
        {
          "output_type": "stream",
          "text": [
            "Please enter an integer: 23\n",
            "23\n"
          ],
          "name": "stdout"
        }
      ]
    },
    {
      "cell_type": "code",
      "metadata": {
        "colab": {
          "base_uri": "https://localhost:8080/"
        },
        "id": "Lg3JbftBYND1",
        "outputId": "bdaa7378-76e6-43b2-bba4-1482c4ddabe1"
      },
      "source": [
        "ort = input('Ortalamanızı Girin : ')\r\n",
        "if(int(ort)>=50):\r\n",
        "      print(\"Geçtiniz\")\r\n",
        "elif(int(ort)<40 or int(ort)>35):\r\n",
        "  print(\"Sorunlu gecti\")\r\n",
        "elif(int(ort)<30 or int(ort)>25):\r\n",
        "  print(\"Hocaya bagli\")\r\n",
        "else:\r\n",
        "      print(\"Kaldınız\")"
      ],
      "execution_count": 57,
      "outputs": [
        {
          "output_type": "stream",
          "text": [
            "Ortalamanızı Girin : 29\n",
            "Sorunlu gecti\n"
          ],
          "name": "stdout"
        }
      ]
    },
    {
      "cell_type": "code",
      "metadata": {
        "colab": {
          "base_uri": "https://localhost:8080/"
        },
        "id": "QKId4B_1d9xx",
        "outputId": "54c3483c-bd94-4cb0-d619-b0a957a923c2"
      },
      "source": [
        " # creating a list\r\n",
        "mylist = [3,5,6,7]\r\n",
        "print(mylist) \r\n",
        "type(mylist)\r\n",
        "print(mylist[0])\r\n",
        "print(mylist[2])\r\n",
        "print(mylist[-1])\r\n",
        "print(mylist[-3])"
      ],
      "execution_count": 58,
      "outputs": [
        {
          "output_type": "stream",
          "text": [
            "[3, 5, 6, 7]\n",
            "3\n",
            "6\n",
            "7\n",
            "5\n"
          ],
          "name": "stdout"
        }
      ]
    },
    {
      "cell_type": "code",
      "metadata": {
        "id": "S-XLVl2Jgmod"
      },
      "source": [
        "mylist = [3,5,\"duran\",6.7]"
      ],
      "execution_count": 59,
      "outputs": []
    },
    {
      "cell_type": "code",
      "metadata": {
        "colab": {
          "base_uri": "https://localhost:8080/"
        },
        "id": "WwU-aAAgg6oo",
        "outputId": "b08f6e32-b806-4aa6-8011-9562d48a69a9"
      },
      "source": [
        "mylist.append('course')  # append(): listenin sonuna bir eleman ekler.\r\n",
        "print(mylist)"
      ],
      "execution_count": 60,
      "outputs": [
        {
          "output_type": "stream",
          "text": [
            "[3, 5, 'duran', 6.7, 'course']\n"
          ],
          "name": "stdout"
        }
      ]
    },
    {
      "cell_type": "code",
      "metadata": {
        "colab": {
          "base_uri": "https://localhost:8080/"
        },
        "id": "ZlbWucuxg-LL",
        "outputId": "c489d21e-95a9-4bb0-83f7-27c511f75d79"
      },
      "source": [
        "thelast = mylist.pop()  # pop(): listenin sonundaki son elemanı siler.\r\n",
        "print(thelast)\r\n",
        "print(mylist)"
      ],
      "execution_count": 61,
      "outputs": [
        {
          "output_type": "stream",
          "text": [
            "course\n",
            "[3, 5, 'duran', 6.7]\n"
          ],
          "name": "stdout"
        }
      ]
    },
    {
      "cell_type": "code",
      "metadata": {
        "colab": {
          "base_uri": "https://localhost:8080/"
        },
        "id": "LlcMddf8hGWt",
        "outputId": "25ae97d1-b986-41f8-ccd5-18c2f198e2f1"
      },
      "source": [
        "mylist.index(\"duran\")"
      ],
      "execution_count": 63,
      "outputs": [
        {
          "output_type": "execute_result",
          "data": {
            "text/plain": [
              "2"
            ]
          },
          "metadata": {
            "tags": []
          },
          "execution_count": 63
        }
      ]
    },
    {
      "cell_type": "code",
      "metadata": {
        "colab": {
          "base_uri": "https://localhost:8080/"
        },
        "id": "jxrZnbdBhKja",
        "outputId": "97bfe9da-ce57-47f9-ac49-3952358391b1"
      },
      "source": [
        "mylist.count(3)"
      ],
      "execution_count": 65,
      "outputs": [
        {
          "output_type": "execute_result",
          "data": {
            "text/plain": [
              "1"
            ]
          },
          "metadata": {
            "tags": []
          },
          "execution_count": 65
        }
      ]
    },
    {
      "cell_type": "code",
      "metadata": {
        "colab": {
          "base_uri": "https://localhost:8080/"
        },
        "id": "_7z_Fu9Zhnyh",
        "outputId": "7dd23f1e-2e7d-4b81-e9b0-eb7a858c376c"
      },
      "source": [
        "list2 = [\"Python\",\"Java\",\"R\",\"JavaScript\",\"Ruby\",\"Python\",\"Python\"]\r\n",
        "list2.count(\"Python\")"
      ],
      "execution_count": 67,
      "outputs": [
        {
          "output_type": "execute_result",
          "data": {
            "text/plain": [
              "3"
            ]
          },
          "metadata": {
            "tags": []
          },
          "execution_count": 67
        }
      ]
    },
    {
      "cell_type": "code",
      "metadata": {
        "id": "LlXVhQELh1ZO"
      },
      "source": [
        "list2.sort()"
      ],
      "execution_count": 72,
      "outputs": []
    },
    {
      "cell_type": "code",
      "metadata": {
        "colab": {
          "base_uri": "https://localhost:8080/"
        },
        "id": "D7Lpq6RDh3W2",
        "outputId": "3a6614b7-7975-41f5-a356-a5dfcaed0802"
      },
      "source": [
        "list2"
      ],
      "execution_count": 73,
      "outputs": [
        {
          "output_type": "execute_result",
          "data": {
            "text/plain": [
              "['Java', 'JavaScript', 'Python', 'Python', 'Python', 'Ruby']"
            ]
          },
          "metadata": {
            "tags": []
          },
          "execution_count": 73
        }
      ]
    },
    {
      "cell_type": "code",
      "metadata": {
        "colab": {
          "base_uri": "https://localhost:8080/"
        },
        "id": "8RPTAryqh5fB",
        "outputId": "26e00425-e212-452d-9e19-2b06d1b2fc57"
      },
      "source": [
        "list2.remove(\"R\")\r\n",
        "list2"
      ],
      "execution_count": 70,
      "outputs": [
        {
          "output_type": "execute_result",
          "data": {
            "text/plain": [
              "['Java', 'JavaScript', 'Python', 'Python', 'Python', 'Ruby']"
            ]
          },
          "metadata": {
            "tags": []
          },
          "execution_count": 70
        }
      ]
    },
    {
      "cell_type": "code",
      "metadata": {
        "id": "6liyfJRGkqYz"
      },
      "source": [
        "name =\"PG\" \"1926\""
      ],
      "execution_count": 75,
      "outputs": []
    },
    {
      "cell_type": "code",
      "metadata": {
        "colab": {
          "base_uri": "https://localhost:8080/",
          "height": 35
        },
        "id": "g1znaqiKpHed",
        "outputId": "a0d44a8a-aea3-4295-f7ab-6fbd9a3c26d4"
      },
      "source": [
        "name"
      ],
      "execution_count": 76,
      "outputs": [
        {
          "output_type": "execute_result",
          "data": {
            "application/vnd.google.colaboratory.intrinsic+json": {
              "type": "string"
            },
            "text/plain": [
              "'PG1926'"
            ]
          },
          "metadata": {
            "tags": []
          },
          "execution_count": 76
        }
      ]
    },
    {
      "cell_type": "code",
      "metadata": {
        "id": "y4fyxfnRpJG-"
      },
      "source": [
        ""
      ],
      "execution_count": null,
      "outputs": []
    }
  ]
}