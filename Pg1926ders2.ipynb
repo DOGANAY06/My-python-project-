{
  "nbformat": 4,
  "nbformat_minor": 0,
  "metadata": {
    "colab": {
      "name": "Pg1926ders2.ipynb",
      "provenance": [],
      "collapsed_sections": [],
      "authorship_tag": "ABX9TyNM0IcgtBhADyFwzJRSx77g",
      "include_colab_link": true
    },
    "kernelspec": {
      "name": "python3",
      "display_name": "Python 3"
    }
  },
  "cells": [
    {
      "cell_type": "markdown",
      "metadata": {
        "id": "view-in-github",
        "colab_type": "text"
      },
      "source": [
        "<a href=\"https://colab.research.google.com/github/DOGANAY06/My-python-project-/blob/master/Pg1926ders2.ipynb\" target=\"_parent\"><img src=\"https://colab.research.google.com/assets/colab-badge.svg\" alt=\"Open In Colab\"/></a>"
      ]
    },
    {
      "cell_type": "code",
      "metadata": {
        "colab": {
          "base_uri": "https://localhost:8080/"
        },
        "id": "b4XMUTkSOBS1",
        "outputId": "9237edf3-bb82-4d63-e515-3d73773fc829"
      },
      "source": [
        "ilk_metin = \"asdasfddgdhfjfdgdşfkgjdfklgşjdfklgjdfkghdfjghjklsdhajlsdhjkjhkhjjhu9\"\r\n",
        "ikinci_metin = \"sdfsuıdoryeuıfsjkdfhdjklghjdfklruseldhfjlkdshfljskeeuf\"\r\n",
        "\r\n",
        "for s in ilk_metin: #ilk_metin deki değerleri s ye depoluyor \r\n",
        "    if not s in ikinci_metin: #2.metinde olmayan s de olanları yazdırıyor\r\n",
        "        print(s)"
      ],
      "execution_count": 1,
      "outputs": [
        {
          "output_type": "stream",
          "text": [
            "a\n",
            "a\n",
            "ş\n",
            "ş\n",
            "a\n",
            "9\n"
          ],
          "name": "stdout"
        }
      ]
    },
    {
      "cell_type": "code",
      "metadata": {
        "colab": {
          "base_uri": "https://localhost:8080/"
        },
        "id": "kq_NesvgPuvG",
        "outputId": "44c91c47-d5fa-456c-847f-0f79220aab93"
      },
      "source": [
        "ilk_metin = \"asdasfddgdhfjfdgdşfkgjdfklgşjdfklgjdfkghdfjghjklsdhajlsdhjkjhkhjjhu9\"\r\n",
        "ikinci_metin = \"sdfsuıdoryeuıfsjkdfhdjklghjdfklruseldhfjlkdshfljskeeuf\"\r\n",
        "for ilk_metin in ilk_metin:\r\n",
        "  if not ilk_metin in ikinci_metin:\r\n",
        "    print(ilk_metin)"
      ],
      "execution_count": 4,
      "outputs": [
        {
          "output_type": "stream",
          "text": [
            "a\n",
            "a\n",
            "ş\n",
            "ş\n",
            "a\n",
            "9\n"
          ],
          "name": "stdout"
        }
      ]
    },
    {
      "cell_type": "code",
      "metadata": {
        "id": "_Zi2URvuP_5b"
      },
      "source": [
        "def kayıt_oluştur(isim, soyisim,işsis, şehir): #fonksiyon yapısı\r\n",
        "    print(\"*\"*30) #30 kere yazdir\r\n",
        "\r\n",
        "    print(\"isim           : \", isim)\r\n",
        "    print(\"soyisim        : \", soyisim)\r\n",
        "    print(\"işletim sistemi: \", işsis)\r\n",
        "    print(\"şehir          : \", şehir)\r\n",
        "\r\n",
        "    print(\"*\"*30)"
      ],
      "execution_count": 9,
      "outputs": []
    },
    {
      "cell_type": "code",
      "metadata": {
        "colab": {
          "base_uri": "https://localhost:8080/"
        },
        "id": "YTlC8nGaSrUY",
        "outputId": "e477a2ed-1461-46c6-fa4c-3058b77fe118"
      },
      "source": [
        "kayıt_oluştur(\"Dogan\",\"Ay\",\"Windows\",\"Ankara\")\r\n",
        "kayıt_oluştur(\"Dorık\",\"Ay\",123312,\"Ankara\")"
      ],
      "execution_count": 10,
      "outputs": [
        {
          "output_type": "stream",
          "text": [
            "******************************\n",
            "isim           :  Dogan\n",
            "soyisim        :  Ay\n",
            "işletim sistemi:  Windows\n",
            "şehir          :  Ankara\n",
            "******************************\n",
            "******************************\n",
            "isim           :  Dorık\n",
            "soyisim        :  Ay\n",
            "işletim sistemi:  123312\n",
            "şehir          :  Ankara\n",
            "******************************\n"
          ],
          "name": "stdout"
        }
      ]
    },
    {
      "cell_type": "code",
      "metadata": {
        "id": "oSm_XksKSxJk"
      },
      "source": [
        "def toplama (sayi,sayi2):\r\n",
        "  toplam = sayi+sayi2\r\n",
        "  print(toplam)\r\n",
        "def cikarma (sayi,sayi2):\r\n",
        "  cikarma =sayi-sayi2\r\n",
        "  print(cikarma)\r\n",
        "def carpma(sayi,sayi2):\r\n",
        "  carpim =sayi*sayi2\r\n",
        "  print(carpim)\r\n",
        "def bolme(sayi,sayi2):\r\n",
        "  bolmem =sayi/sayi2\r\n",
        "  print(bolmem)"
      ],
      "execution_count": 13,
      "outputs": []
    },
    {
      "cell_type": "code",
      "metadata": {
        "colab": {
          "base_uri": "https://localhost:8080/"
        },
        "id": "48mMK8HYTdzM",
        "outputId": "cfbf7537-d6ee-4b08-bc87-c4ca60b146e2"
      },
      "source": [
        "toplama(234,123)\r\n",
        "bolme(15,3)\r\n",
        "bolme(0,23)\r\n",
        "bolme(2,32)"
      ],
      "execution_count": 16,
      "outputs": [
        {
          "output_type": "stream",
          "text": [
            "357\n",
            "5.0\n",
            "0.0\n",
            "0.0625\n"
          ],
          "name": "stdout"
        }
      ]
    },
    {
      "cell_type": "code",
      "metadata": {
        "colab": {
          "base_uri": "https://localhost:8080/"
        },
        "id": "VGPXYh1DTftA",
        "outputId": "5f513c11-f2c0-4878-d607-33402a1e9570"
      },
      "source": [
        "class Çalışan():\r\n",
        "    kabiliyetleri = [\"hırsız\",\"sevimsizz\",\"serefsiz\"]\r\n",
        "    unvanı = 'işçi'\r\n",
        "    hareketleri =input(\"Hareket giriniz \")\r\n",
        "    maasi = input(\"Maas bilgisi giriniz\")\r\n",
        "print(Çalışan.kabiliyetleri)\r\n",
        "print(Çalışan.unvanı)\r\n",
        "print(Çalışan.hareketleri)\r\n",
        "print(Çalışan.maasi)"
      ],
      "execution_count": 19,
      "outputs": [
        {
          "output_type": "stream",
          "text": [
            "Hareket giriniz karakterli\n",
            "Maas bilgisi giriniz2321\n",
            "['hırsız', 'sevimsizz', 'serefsiz']\n",
            "işçi\n",
            "karakterli\n",
            "2321\n"
          ],
          "name": "stdout"
        }
      ]
    },
    {
      "cell_type": "code",
      "metadata": {
        "id": "o4FugBGFaXSE"
      },
      "source": [
        "class Asker():\r\n",
        "    rütbesi = 'Er'\r\n",
        "    standart_teçhizat = ['G3', 'kasatura', 'süngü', 'el bombası']\r\n",
        "    gücü = 60\r\n",
        "    birliği = ''"
      ],
      "execution_count": 20,
      "outputs": []
    },
    {
      "cell_type": "code",
      "metadata": {
        "colab": {
          "base_uri": "https://localhost:8080/"
        },
        "id": "466sjatGbvGR",
        "outputId": "1a54be5f-a28e-4d5e-abcf-db70fd7ea793"
      },
      "source": [
        "Asker.gücü\r\n",
        "Asker.standart_teçhizat"
      ],
      "execution_count": 21,
      "outputs": [
        {
          "output_type": "execute_result",
          "data": {
            "text/plain": [
              "['G3', 'kasatura', 'süngü', 'el bombası']"
            ]
          },
          "metadata": {
            "tags": []
          },
          "execution_count": 21
        }
      ]
    },
    {
      "cell_type": "code",
      "metadata": {
        "id": "hYg047bYbwxK"
      },
      "source": [
        "ahmet = Asker()  #Örnekleme (instance"
      ],
      "execution_count": 22,
      "outputs": []
    },
    {
      "cell_type": "code",
      "metadata": {
        "id": "d-KYv0zebzJZ"
      },
      "source": [
        "ahmet.gücü +=23"
      ],
      "execution_count": 23,
      "outputs": []
    },
    {
      "cell_type": "code",
      "metadata": {
        "colab": {
          "base_uri": "https://localhost:8080/"
        },
        "id": "xVnXgpYUb3BH",
        "outputId": "817c34cc-8f83-4a27-b878-288a83c59475"
      },
      "source": [
        "ahmet.gücü  #ahmete erişme işlemi yapıyoruz"
      ],
      "execution_count": 24,
      "outputs": [
        {
          "output_type": "execute_result",
          "data": {
            "text/plain": [
              "83"
            ]
          },
          "metadata": {
            "tags": []
          },
          "execution_count": 24
        }
      ]
    },
    {
      "cell_type": "code",
      "metadata": {
        "id": "VfyitbmUb44u"
      },
      "source": [
        "ahmet.standart_teçhizat.append(\"Kask\")"
      ],
      "execution_count": 27,
      "outputs": []
    },
    {
      "cell_type": "code",
      "metadata": {
        "colab": {
          "base_uri": "https://localhost:8080/"
        },
        "id": "P7F0qY6ocHsd",
        "outputId": "8097848a-d17e-4476-cb26-0527f547baaa"
      },
      "source": [
        "ahmet.standart_teçhizat"
      ],
      "execution_count": 28,
      "outputs": [
        {
          "output_type": "execute_result",
          "data": {
            "text/plain": [
              "['G3', 'kasatura', 'süngü', 'el bombası', 'bıcak', 'Kask']"
            ]
          },
          "metadata": {
            "tags": []
          },
          "execution_count": 28
        }
      ]
    },
    {
      "cell_type": "code",
      "metadata": {
        "id": "qLSDgRNZcJBL"
      },
      "source": [
        "mehmet = Asker()"
      ],
      "execution_count": 29,
      "outputs": []
    },
    {
      "cell_type": "code",
      "metadata": {
        "colab": {
          "base_uri": "https://localhost:8080/"
        },
        "id": "WwCR7uHbcXfD",
        "outputId": "0ad43f92-0655-4d63-acb7-44320c023bb8"
      },
      "source": [
        "mehmet.gücü"
      ],
      "execution_count": 31,
      "outputs": [
        {
          "output_type": "execute_result",
          "data": {
            "text/plain": [
              "60"
            ]
          },
          "metadata": {
            "tags": []
          },
          "execution_count": 31
        }
      ]
    },
    {
      "cell_type": "code",
      "metadata": {
        "id": "vrkksJKfcY4e"
      },
      "source": [
        "mehmet.standart_teçhizat.append(\"can yelegi\")"
      ],
      "execution_count": 32,
      "outputs": []
    },
    {
      "cell_type": "code",
      "metadata": {
        "colab": {
          "base_uri": "https://localhost:8080/"
        },
        "id": "XEj0ib6ncfdp",
        "outputId": "a547244e-7f4e-400a-e6f9-f044644bea42"
      },
      "source": [
        "mehmet.standart_teçhizat"
      ],
      "execution_count": 33,
      "outputs": [
        {
          "output_type": "execute_result",
          "data": {
            "text/plain": [
              "['G3', 'kasatura', 'süngü', 'el bombası', 'bıcak', 'Kask', 'can yelegi']"
            ]
          },
          "metadata": {
            "tags": []
          },
          "execution_count": 33
        }
      ]
    },
    {
      "cell_type": "code",
      "metadata": {
        "id": "InIijRwDcg0h"
      },
      "source": [
        "class Arabalar():\r\n",
        "    def __init__(self,marka,model,renk,vites):\r\n",
        "        self.marka  = marka\r\n",
        "        self.model  = model\r\n",
        "        self.renk   = renk\r\n",
        "        self.vites  = vites"
      ],
      "execution_count": 34,
      "outputs": []
    },
    {
      "cell_type": "code",
      "metadata": {
        "colab": {
          "base_uri": "https://localhost:8080/",
          "height": 216
        },
        "id": "A3aztkG6eHhl",
        "outputId": "23ddb987-fb8b-4bae-fd61-bd92c5278ea4"
      },
      "source": [
        "araba_1 = Arabalar(\"Ford\", \"Mustang\", \"Siyah\", \"Manuel\") #nesne yaratmak.\r\n",
        "\r\n",
        "araba_2 = Arabalar(\"BMW\", \"X6\", \"Beyaz\", \"Otomatik\")\r\n",
        "\r\n",
        "araba_3 = Arabalar()"
      ],
      "execution_count": 35,
      "outputs": [
        {
          "output_type": "error",
          "ename": "TypeError",
          "evalue": "ignored",
          "traceback": [
            "\u001b[0;31m---------------------------------------------------------------------------\u001b[0m",
            "\u001b[0;31mTypeError\u001b[0m                                 Traceback (most recent call last)",
            "\u001b[0;32m<ipython-input-35-11473b531cef>\u001b[0m in \u001b[0;36m<module>\u001b[0;34m()\u001b[0m\n\u001b[1;32m      3\u001b[0m \u001b[0maraba_2\u001b[0m \u001b[0;34m=\u001b[0m \u001b[0mArabalar\u001b[0m\u001b[0;34m(\u001b[0m\u001b[0;34m\"BMW\"\u001b[0m\u001b[0;34m,\u001b[0m \u001b[0;34m\"X6\"\u001b[0m\u001b[0;34m,\u001b[0m \u001b[0;34m\"Beyaz\"\u001b[0m\u001b[0;34m,\u001b[0m \u001b[0;34m\"Otomatik\"\u001b[0m\u001b[0;34m)\u001b[0m\u001b[0;34m\u001b[0m\u001b[0;34m\u001b[0m\u001b[0m\n\u001b[1;32m      4\u001b[0m \u001b[0;34m\u001b[0m\u001b[0m\n\u001b[0;32m----> 5\u001b[0;31m \u001b[0maraba_3\u001b[0m \u001b[0;34m=\u001b[0m \u001b[0mArabalar\u001b[0m\u001b[0;34m(\u001b[0m\u001b[0;34m)\u001b[0m\u001b[0;34m\u001b[0m\u001b[0;34m\u001b[0m\u001b[0m\n\u001b[0m",
            "\u001b[0;31mTypeError\u001b[0m: __init__() missing 4 required positional arguments: 'marka', 'model', 'renk', and 'vites'"
          ]
        }
      ]
    },
    {
      "cell_type": "code",
      "metadata": {
        "colab": {
          "base_uri": "https://localhost:8080/"
        },
        "id": "cqPPXzgCeJ9W",
        "outputId": "f06a40b8-b536-4dd9-aa7d-f6ee6ef10e50"
      },
      "source": [
        "print(araba_1.marka)\r\n",
        "print(araba_2.marka)"
      ],
      "execution_count": 39,
      "outputs": [
        {
          "output_type": "stream",
          "text": [
            "Ford\n",
            "BMW\n"
          ],
          "name": "stdout"
        }
      ]
    },
    {
      "cell_type": "markdown",
      "metadata": {
        "id": "nfWbjT8me97l"
      },
      "source": [
        "İnit nedir?\r\n",
        "\r\n",
        "init metodu initialize – ilklendirmek, initializer – başlatıcı kavramlarından gelmektedir. init , OOP ile programlamada bir class’ın yapıcı (constructor) metodur. Eğer bir class’tan nesne türetecek isek init ,class’ın ilk metodu olmak zorundadır. Class içinden türetilen nesnelere ait özellikler bu metot ile nesnelere atanır. Aşağıdaki örnekte Arabalar() adında bir class oluşturduk. Genel olarak her arabada bulunan fakat arabadan arabaya değişiklik gösteren marka, model, renk ve vites gibi ayırt edeci özellikleri class’ımıza atadık.\r\n",
        "\r\n",
        "\r\n"
      ]
    },
    {
      "cell_type": "markdown",
      "metadata": {
        "id": "P9Hs62kdfLXA"
      },
      "source": [
        "Self nedir?\r\n",
        "\r\n",
        "init metodunun yapısına baktığımızda parantez içinde self kavramı dikkatimizi çekmektedir. self anahtar sözcüğü (keyword) init metodu ile gelen ve class içinden türetmiş olduğumuz nesnelere ulaşmamızı sağlayan bir kavramdır. init metodunu class’tan hemen sonra kullandığımızda gelen self keyword yerine biz kendi keyword’ümüzü de yazabiliriz ve daha sonra, çağırmak istediğimiz her özellik için oluşturduğumuz keyword’ü kullanabiliriz. Tavsiye olarak self sözcüğünü karışıklık olmaması adına değiştirmemenizi tavsiye ederim."
      ]
    },
    {
      "cell_type": "code",
      "metadata": {
        "id": "n-j8-69ueLtd"
      },
      "source": [
        "class Çalışan(): #bir sınıfımız var \r\n",
        "    personel = []  #personel listemiz var \r\n",
        "\r\n",
        "    def __init__(self, isim):  #zorunlu olarak isim olmalı \r\n",
        "        self.isim = isim\r\n",
        "        self.kabiliyetleri = []  \r\n",
        "        self.personele_ekle()\r\n",
        "\r\n",
        "    def personele_ekle(self):  #personel ekle fonksiyonu \r\n",
        "        self.personel.append(self.isim) #ekle ismi \r\n",
        "        print('{} adlı kişi personele eklendi'.format(self.isim))\r\n",
        "\r\n",
        "    def personeli_görüntüle(self):\r\n",
        "        print('Personel listesi:')\r\n",
        "        for kişi in self.personel:\r\n",
        "            print(kişi)\r\n",
        "\r\n",
        "    def kabiliyet_ekle(self, kabiliyet):\r\n",
        "        self.kabiliyetleri.append(kabiliyet)\r\n",
        "\r\n",
        "    def kabiliyetleri_görüntüle(self):\r\n",
        "        print('{} adlı kişinin kabiliyetleri:'.format(self.isim))\r\n",
        "        for kabiliyet in self.kabiliyetleri:\r\n",
        "            print(kabiliyet)"
      ],
      "execution_count": 46,
      "outputs": []
    },
    {
      "cell_type": "code",
      "metadata": {
        "colab": {
          "base_uri": "https://localhost:8080/"
        },
        "id": "eXkcGfVcfluf",
        "outputId": "7704d3e1-3a91-4ddb-9e8e-0de8428b9b1c"
      },
      "source": [
        "çalışan1 = Çalışan(\"Dorukan\")\r\n",
        "çalışan2 = Çalışan(\"Durmuş\")\r\n",
        "çalışan1.personeli_görüntüle()\r\n",
        "çalışan2.personeli_görüntüle()"
      ],
      "execution_count": 59,
      "outputs": [
        {
          "output_type": "stream",
          "text": [
            "Dorukan adlı kişi personele eklendi\n",
            "Durmuş adlı kişi personele eklendi\n",
            "Personel listesi:\n",
            "Dorukan\n",
            "Dorukan\n",
            "Dorukan\n",
            "Dorukan\n",
            "Dorukan\n",
            "Dorukan\n",
            "Dorukan\n",
            "Durmuş\n",
            "Dorukan\n",
            "Dorukan\n",
            "Durmuş\n",
            "Personel listesi:\n",
            "Dorukan\n",
            "Dorukan\n",
            "Dorukan\n",
            "Dorukan\n",
            "Dorukan\n",
            "Dorukan\n",
            "Dorukan\n",
            "Durmuş\n",
            "Dorukan\n",
            "Dorukan\n",
            "Durmuş\n"
          ],
          "name": "stdout"
        }
      ]
    },
    {
      "cell_type": "markdown",
      "metadata": {
        "id": "utBPuBK6fIq7"
      },
      "source": [
        ""
      ]
    },
    {
      "cell_type": "code",
      "metadata": {
        "id": "d_guZK2WhZln"
      },
      "source": [
        "class Akademisyen:\r\n",
        "    def __init__(self,adi,soyadi,numarasi):\r\n",
        "        self.adi = adi\r\n",
        "        self.soyadi = soyadi\r\n",
        "        self.numarasi = numarasi\r\n",
        " \r\n",
        " \r\n",
        "    def giris(self):\r\n",
        "        print(\"Giriş Yapıldı\")\r\n",
        " \r\n",
        "    def cikis(self):\r\n",
        "        print(\"Çıkış yapıldı\")\r\n",
        " \r\n",
        " \r\n",
        "class Personel:\r\n",
        "    def __init__(self, adi, soyadi, numarasi):\r\n",
        "        self.adi = adi\r\n",
        "        self.soyadi = soyadi\r\n",
        "        self.numarasi = numarasi\r\n",
        " \r\n",
        "    def giris(self):\r\n",
        "        print(\"Giriş Yapıldı\")\r\n",
        " \r\n",
        "    def cikis(self):\r\n",
        "        print(\"Çıkış yapıldı\")\r\n",
        " 3\r\n",
        " \r\n",
        "class Ogrenci:\r\n",
        "    def __init__(self, adi, soyadi, numarasi):\r\n",
        "        self.adi = adi\r\n",
        "        self.soyadi = soyadi\r\n",
        "        self.numarasi = numarasi\r\n",
        " \r\n",
        "    def giris(self):\r\n",
        "        print(\"Giriş Yapıldı\")\r\n",
        " \r\n",
        "    def cikis(self):\r\n",
        "        print(\"Çıkış yapıldı\")\r\n",
        "class Kullanici:\r\n",
        "    def __init__(self,adi,soyadi,numara):\r\n",
        "        print(\"Kullanıcı sınıfı fonksiyonu\")\r\n",
        "        self.adi = adi\r\n",
        "        self.soyadi = soyadi\r\n",
        "        self.numara = numara\r\n",
        " \r\n",
        " \r\n",
        "    def giris(self):\r\n",
        "        print(\"Giriş Yapıldı\")\r\n",
        " \r\n",
        "    def cikis(self):\r\n",
        "        print(\"Çıkış yapıldı\")\r\n",
        " \r\n",
        " \r\n",
        " \r\n",
        "class Akademisyen(Kullanici):\r\n",
        "    pass\r\n",
        "class Personel(Kullanici):\r\n",
        "    pass\r\n",
        "class Ogrenci(Kullanici):\r\n",
        "    pass"
      ],
      "execution_count": 66,
      "outputs": []
    },
    {
      "cell_type": "code",
      "metadata": {
        "colab": {
          "base_uri": "https://localhost:8080/"
        },
        "id": "AHCg3ouIhaZa",
        "outputId": "4b428ce1-6659-4d31-cbe4-95079ea78b18"
      },
      "source": [
        "ogr_ahmet = Kullanici(\"Ahmet\", \"Deniz\", \"123123\")"
      ],
      "execution_count": 67,
      "outputs": [
        {
          "output_type": "stream",
          "text": [
            "Kullanıcı sınıfı fonksiyonu\n"
          ],
          "name": "stdout"
        }
      ]
    },
    {
      "cell_type": "code",
      "metadata": {
        "colab": {
          "base_uri": "https://localhost:8080/"
        },
        "id": "NxaqzQ6NhfRS",
        "outputId": "3e832ae3-70ee-46ca-9355-832c78692434"
      },
      "source": [
        "prof_mehmet = Akademisyen(\"Mehmet\", \"Beyaz\", \"123123\")"
      ],
      "execution_count": 68,
      "outputs": [
        {
          "output_type": "stream",
          "text": [
            "Kullanıcı sınıfı fonksiyonu\n"
          ],
          "name": "stdout"
        }
      ]
    },
    {
      "cell_type": "code",
      "metadata": {
        "colab": {
          "base_uri": "https://localhost:8080/",
          "height": 35
        },
        "id": "_kOTh5OMhhG-",
        "outputId": "0dd46c9d-c11d-4578-f835-de18a653a886"
      },
      "source": [
        "prof_mehmet.numara"
      ],
      "execution_count": 69,
      "outputs": [
        {
          "output_type": "execute_result",
          "data": {
            "application/vnd.google.colaboratory.intrinsic+json": {
              "type": "string"
            },
            "text/plain": [
              "'123123'"
            ]
          },
          "metadata": {
            "tags": []
          },
          "execution_count": 69
        }
      ]
    },
    {
      "cell_type": "code",
      "metadata": {
        "colab": {
          "base_uri": "https://localhost:8080/",
          "height": 35
        },
        "id": "C3y3CVexhu2V",
        "outputId": "010038cc-7af4-4523-f7bc-fade07e46d3c"
      },
      "source": [
        "ogr_ahmet.soyadi"
      ],
      "execution_count": 70,
      "outputs": [
        {
          "output_type": "execute_result",
          "data": {
            "application/vnd.google.colaboratory.intrinsic+json": {
              "type": "string"
            },
            "text/plain": [
              "'Deniz'"
            ]
          },
          "metadata": {
            "tags": []
          },
          "execution_count": 70
        }
      ]
    },
    {
      "cell_type": "code",
      "metadata": {
        "id": "E-ldoe9ahw3r"
      },
      "source": [
        "class test:\r\n",
        "  def __init__(self, a=\"Hello world\"):\r\n",
        "    self.a =a\r\n",
        "  def display(self):\r\n",
        "    print(self.a)"
      ],
      "execution_count": 71,
      "outputs": []
    },
    {
      "cell_type": "code",
      "metadata": {
        "id": "KSLTHF9ZlzLP"
      },
      "source": [
        ""
      ],
      "execution_count": null,
      "outputs": []
    }
  ]
}